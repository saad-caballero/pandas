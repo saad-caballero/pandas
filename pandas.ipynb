{
 "cells": [
  {
   "cell_type": "code",
   "execution_count": null,
   "id": "b68c0aae-55af-4496-8c10-b169fbc5d923",
   "metadata": {},
   "outputs": [],
   "source": [
    "import pandas as pd\n",
    "import numpy as np\n",
    "\n",
    "# Création du DataFrame à partir des données du dictionnaire\n",
    "exam_data = {\n",
    "    'nom': ['Anastasia', 'Dima', 'Katherine', 'James', 'Emily', 'Michael', 'Matthew', 'Laura', 'Kevin', 'Jonas'],\n",
    "    'note': [12.5, 9, 16.5, np.nan, 9, 20, 14.5, np.nan, 8, 19],\n",
    "    'tentatives': [1, 3, 2, 3, 2, 3, 1, 1, 2, 1],\n",
    "    'qualifié': ['oui', 'non', 'oui', 'non', 'non', 'oui', 'oui', 'non', 'non', 'oui']\n",
    "}\n",
    "étiquettes = ['a', 'b', 'c', 'd', 'e', 'f', 'g', 'h', 'i', 'j']\n",
    "\n",
    "df = pd.DataFrame(exam_data, index=étiquettes)\n",
    "\n",
    "# Affichage des trois premières lignes\n",
    "print(\"Trois premières lignes:\")\n",
    "print(df.head(3))\n",
    "\n",
    "# Suppression des lignes contenant des valeurs NaN\n",
    "df = df.dropna()\n",
    "\n",
    "# Extraction des colonnes 'nom' et 'note'\n",
    "nom_note = df[['nom', 'note']]\n",
    "print(\"\\nColonnes 'nom' et 'note':\")\n",
    "print(nom_note)\n",
    "\n",
    "# Ajout d'une nouvelle ligne 'k'\n",
    "nouvelle_ligne = pd.DataFrame({\"nom\": \"Suresh\", \"note\": 15.5, \"tentatives\": 1, \"qualifié\": \"oui\"}, index=['k'])\n",
    "df = pd.concat([df, nouvelle_ligne])\n",
    "\n",
    "# Suppression de la colonne 'tentatives'\n",
    "df.drop('tentatives', axis=1, inplace=True)\n",
    "\n",
    "# Ajout d'une nouvelle colonne \"Succès\"\n",
    "df['Succès'] = np.where(df['note'] > 10, 1, 0)\n",
    "\n",
    "# Export du DataFrame final dans un fichier CSV\n",
    "df.to_csv('mes_données.csv')\n",
    "\n",
    "print(\"\\nDataFrame final:\")\n",
    "print(df)\n"
   ]
  }
 ],
 "metadata": {
  "kernelspec": {
   "display_name": "Python 3 (ipykernel)",
   "language": "python",
   "name": "python3"
  },
  "language_info": {
   "codemirror_mode": {
    "name": "ipython",
    "version": 3
   },
   "file_extension": ".py",
   "mimetype": "text/x-python",
   "name": "python",
   "nbconvert_exporter": "python",
   "pygments_lexer": "ipython3",
   "version": "3.11.5"
  }
 },
 "nbformat": 4,
 "nbformat_minor": 5
}
